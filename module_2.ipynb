{
 "cells": [
  {
   "cell_type": "markdown",
   "id": "a14397a6",
   "metadata": {},
   "source": [
    "# Filter Method: Correlation & Chi-Squared"
   ]
  },
  {
   "cell_type": "code",
   "execution_count": null,
   "id": "c846621a",
   "metadata": {
    "vscode": {
     "languageId": "plaintext"
    }
   },
   "outputs": [],
   "source": [
    "!pip install pandas numpy scikit-learn"
   ]
  },
  {
   "cell_type": "code",
   "execution_count": null,
   "id": "c55ec13f",
   "metadata": {
    "vscode": {
     "languageId": "plaintext"
    }
   },
   "outputs": [],
   "source": [
    "import pandas as pd\n",
    "import numpy as np\n",
    "from sklearn.feature_selection import chi2, SelectKBest\n",
    "\n",
    "# Example dataset\n",
    "df = pd.DataFrame({\n",
    "    'feature1': np.random.randint(0,100,100),\n",
    "    'feature2': np.random.randint(0,50,100),\n",
    "    'feature3': np.random.randint(0,10,100),\n",
    "    'target': np.random.randint(0,2,100)  # binary classification\n",
    "})\n",
    "\n",
    "X = df.drop('target', axis=1)\n",
    "y = df['target']\n",
    "\n",
    "# 1. Quick correlation check\n",
    "print(\"Correlation with target:\")\n",
    "print(df.corr()['target'])\n",
    "\n",
    "# 2. Chi-square test\n",
    "selector = SelectKBest(chi2, k=2)\n",
    "X_chi2 = selector.fit_transform(X, y)\n",
    "\n",
    "print(\"\\nChi-square selected features:\", selector.get_support(indices=True))"
   ]
  },
  {
   "cell_type": "markdown",
   "id": "9e094bf7",
   "metadata": {},
   "source": [
    "# Wrapper Method: Recursive Feature Elimination (RFE)"
   ]
  },
  {
   "cell_type": "code",
   "execution_count": null,
   "id": "90f26706",
   "metadata": {
    "vscode": {
     "languageId": "plaintext"
    }
   },
   "outputs": [],
   "source": [
    "import pandas as pd\n",
    "import numpy as np\n",
    "from sklearn.linear_model import LogisticRegression\n",
    "from sklearn.feature_selection import RFE\n",
    "\n",
    "# Same dataset as above, for demonstration\n",
    "df = pd.DataFrame({\n",
    "    'feature1': np.random.randint(0,100,100),\n",
    "    'feature2': np.random.randint(0,50,100),\n",
    "    'feature3': np.random.randint(0,10,100),\n",
    "    'feature4': np.random.rand(100)*10,\n",
    "    'target': np.random.randint(0,2,100)\n",
    "})\n",
    "\n",
    "X = df.drop('target', axis=1)\n",
    "y = df['target']\n",
    "\n",
    "model = LogisticRegression()\n",
    "rfe = RFE(model, n_features_to_select=2)\n",
    "rfe.fit(X, y)\n",
    "\n",
    "print(\"Feature Ranking:\", rfe.ranking_)\n",
    "print(\"Selected Features (True=selected):\", rfe.support_)"
   ]
  },
  {
   "cell_type": "markdown",
   "id": "4469ca75",
   "metadata": {},
   "source": [
    "# Embedded Method: Lasso Regularization"
   ]
  },
  {
   "cell_type": "code",
   "execution_count": null,
   "id": "86929a4f",
   "metadata": {
    "vscode": {
     "languageId": "plaintext"
    }
   },
   "outputs": [],
   "source": [
    "import pandas as pd\n",
    "import numpy as np\n",
    "from sklearn.linear_model import LassoCV\n",
    "\n",
    "# Example dataset\n",
    "df = pd.DataFrame({\n",
    "    'feature1': np.random.rand(100),\n",
    "    'feature2': np.random.rand(100) * 2,\n",
    "    'feature3': np.random.rand(100) * 3,\n",
    "    'target': np.random.rand(100) * 5\n",
    "})\n",
    "\n",
    "X = df.drop('target', axis=1)\n",
    "y = df['target']\n",
    "\n",
    "lasso = LassoCV(cv=5).fit(X, y)\n",
    "coef = pd.Series(lasso.coef_, index=X.columns)\n",
    "selected_features = coef[coef != 0].index.tolist()\n",
    "\n",
    "print(\"Lasso Coefficients:\\n\", coef)\n",
    "print(\"\\nSelected Features:\", selected_features)"
   ]
  },
  {
   "cell_type": "markdown",
   "id": "7ecf6817",
   "metadata": {},
   "source": [
    "# Tree-Based Importance"
   ]
  },
  {
   "cell_type": "code",
   "execution_count": null,
   "id": "fdb334ea",
   "metadata": {
    "vscode": {
     "languageId": "plaintext"
    }
   },
   "outputs": [],
   "source": [
    "import pandas as pd\n",
    "import numpy as np\n",
    "from sklearn.ensemble import RandomForestClassifier\n",
    "\n",
    "# Classification dataset\n",
    "df = pd.DataFrame({\n",
    "    'feature1': np.random.randn(200),\n",
    "    'feature2': np.random.randn(200),\n",
    "    'feature3': np.random.randn(200),\n",
    "    'feature4': np.random.randint(0, 2, 200),\n",
    "    'target': np.random.randint(0,2,200)\n",
    "})\n",
    "\n",
    "X = df.drop('target', axis=1)\n",
    "y = df['target']\n",
    "\n",
    "model = RandomForestClassifier(n_estimators=100)\n",
    "model.fit(X, y)\n",
    "importances = model.feature_importances_\n",
    "\n",
    "for col, imp in zip(X.columns, importances):\n",
    "    print(f\"{col}: {imp:.3f}\")"
   ]
  },
  {
   "cell_type": "markdown",
   "id": "731195bb",
   "metadata": {},
   "source": [
    "# Permutation Importance"
   ]
  },
  {
   "cell_type": "code",
   "execution_count": null,
   "id": "6e23977d",
   "metadata": {
    "vscode": {
     "languageId": "plaintext"
    }
   },
   "outputs": [],
   "source": [
    "import pandas as pd\n",
    "import numpy as np\n",
    "from sklearn.ensemble import RandomForestRegressor\n",
    "from sklearn.inspection import permutation_importance\n",
    "\n",
    "# Example regression dataset\n",
    "df = pd.DataFrame({\n",
    "    'feature1': np.random.rand(300),\n",
    "    'feature2': np.random.rand(300),\n",
    "    'feature3': np.random.rand(300),\n",
    "    'target': np.random.rand(300)*10\n",
    "})\n",
    "\n",
    "X = df.drop('target', axis=1)\n",
    "y = df['target']\n",
    "\n",
    "model = RandomForestRegressor(n_estimators=100)\n",
    "model.fit(X, y)\n",
    "\n",
    "result = permutation_importance(model, X, y, n_repeats=10, random_state=42)\n",
    "for col, imp in zip(X.columns, result.importances_mean):\n",
    "    print(f\"{col}: {imp:.4f}\")"
   ]
  },
  {
   "cell_type": "markdown",
   "id": "a3182c70",
   "metadata": {},
   "source": []
  }
 ],
 "metadata": {
  "language_info": {
   "name": "python"
  }
 },
 "nbformat": 4,
 "nbformat_minor": 5
}
