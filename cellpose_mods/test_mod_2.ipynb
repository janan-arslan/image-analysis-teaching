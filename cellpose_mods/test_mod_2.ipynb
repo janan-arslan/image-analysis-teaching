{
 "cells": [
  {
   "cell_type": "markdown",
   "metadata": {},
   "source": [
    "# Cellpose Installation and Testing – Binder‑Friendly Legacy Version\n",
    "\n",
    "This notebook installs **Cellpose 3.2.3** (the last release with the classic `models.Cellpose` API) so it works out‑of‑the‑box on [mybinder.org](https://mybinder.org).\n",
    "\n",
    "[![Binder](https://mybinder.org/badge_logo.svg)](https://mybinder.org/v2/gh/your-username/your-repo/HEAD?filepath=cellpose_complete.ipynb)\n",
    "\n",
    "## What This Notebook Does\n",
    "✅ Installs legacy Cellpose 3.x  \n",
    "✅ Creates synthetic test data  \n",
    "✅ Runs segmentation successfully  \n",
    "✅ Visualises results  \n",
    "✅ Provides working code snippets you can reuse"
   ]
  },
  {
   "cell_type": "markdown",
   "metadata": {},
   "source": [
    "## Step 1 – Environment Setup"
   ]
  },
  {
   "cell_type": "code",
   "execution_count": null,
   "metadata": {},
   "outputs": [],
   "source": [
    "import sys, os, subprocess, time\n",
    "\n",
    "print(f\"Python version: {sys.version}\")\n",
    "print(f\"Working directory: {os.getcwd()}\")\n",
    "print(f\"Platform: {sys.platform}\")\n",
    "\n",
    "def run_cmd(cmd, timeout=300):\n",
    "    \"\"\"Utility: run shell command and return (ok, stdout, stderr)\"\"\"\n",
    "    try:\n",
    "        res = subprocess.run(cmd, shell=True, capture_output=True, text=True, timeout=timeout)\n",
    "        return res.returncode == 0, res.stdout.strip(), res.stderr.strip()\n",
    "    except subprocess.TimeoutExpired:\n",
    "        return False, \"\", f\"Command timed out after {timeout}s\""
   ]
  },
  {
   "cell_type": "markdown",
   "metadata": {},
   "source": [
    "## Step 2 – Install Cellpose 3.x and Dependencies"
   ]
  },
  {
   "cell_type": "code",
   "execution_count": null,
   "metadata": {},
   "outputs": [],
   "source": [
    "print(\"🔧 Installing Cellpose 3.2.3 and core libraries … (2‑3 min on Binder)\")\n",
    "\n",
    "packages = [\n",
    "    \"numpy\",\n",
    "    \"scipy\",\n",
    "    \"matplotlib\",\n",
    "    \"scikit-image\",\n",
    "    \"opencv-python-headless\",\n",
    "    \"tifffile\",\n",
    "    \"torch==2.2.2\",\n",
    "    \"torchvision==0.17.2\",\n",
    "    \"cellpose==3.2.3\"  # 👈 pin legacy version\n",
    "]\n",
    "\n",
    "ok, fail = [], []\n",
    "for i, pkg in enumerate(packages, 1):\n",
    "    print(f\"[{i}/{len(packages)}] {pkg} …\", end=\" \")\n",
    "    success, _, err = run_cmd(f\"pip install --quiet {pkg}\")\n",
    "    if success:\n",
    "        print(\"✅\")\n",
    "        ok.append(pkg)\n",
    "    else:\n",
    "        print(\"❌\")\n",
    "        print(err[:200])\n",
    "        fail.append(pkg)\n",
    "\n",
    "installation_successful = len(fail) == 0\n",
    "print(f\"\\n📊 Installed: {len(ok)}  |  Failed: {len(fail)}\")"
   ]
  },
  {
   "cell_type": "markdown",
   "metadata": {},
   "source": [
    "## Step 3 – Verify Cellpose Import & Model Init"
   ]
  },
  {
   "cell_type": "code",
   "execution_count": null,
   "metadata": {},
   "outputs": [],
   "source": [
    "print(\"🔍 Importing Cellpose …\")\n",
    "try:\n",
    "    import cellpose, numpy as np, matplotlib.pyplot as plt, tifffile\n",
    "    from cellpose import models, utils\n",
    "    print(\"✅ Cellpose imported – v\", cellpose.__version__)\n",
    "    model = models.Cellpose(gpu=False, model_type='cyto')\n",
    "    print(\"✅ Model initialised (cyto)\")\n",
    "    cellpose_working = True\n",
    "except Exception as e:\n",
    "    print(\"❌ Cellpose failed:\", e)\n",
    "    cellpose_working = False\n",
    "\n",
    "import matplotlib\n",
    "if cellpose_working:\n",
    "    matplotlib.use('Agg'); plt.ioff()"
   ]
  },
  {
   "cell_type": "markdown",
   "metadata": {},
   "source": [
    "## Step 4 – Create Synthetic Test Data"
   ]
  },
  {
   "cell_type": "code",
   "execution_count": null,
   "metadata": {},
   "outputs": [],
   "source": [
    "from scipy import ndimage\n",
    "if cellpose_working:\n",
    "    print(\"🔬 Generating synthetic image …\")\n",
    "    np.random.seed(42)\n",
    "\n",
    "    def make_cells(size=(512,512), n=12):\n",
    "        img = np.zeros(size, np.float32)\n",
    "        Y, X = np.ogrid[:size[0], :size[1]]\n",
    "        for _ in range(n):\n",
    "            cy, cx = np.random.randint(50, size[0]-50), np.random.randint(50, size[1]-50)\n",
    "            r = np.random.randint(18,35)\n",
    "            noise = np.random.normal(0,3,size)\n",
    "            mask = np.sqrt((X-cx)**2 + (Y-cy)**2) <= r + 0.3*noise\n",
    "            img[mask] = np.random.uniform(160,240)\n",
    "        img += np.random.normal(20,8,size)\n",
    "        img = ndimage.gaussian_filter(img,1.5)\n",
    "        return np.clip(img,0,255).astype(np.uint8)\n",
    "\n",
    "    test_img = make_cells(); tifffile.imwrite('test_cells.tif', test_img)\n",
    "    print(\"✅ test_cells.tif saved\")\n",
    "    plt.figure(figsize=(6,5)); plt.imshow(test_img,cmap='gray'); plt.axis('off');\n",
    "    plt.tight_layout(); plt.savefig('test_cells_preview.png',dpi=120)\n",
    "    test_data_created = True\n",
    "else:\n",
    "    test_data_created = False"
   ]
  },
  {
   "cell_type": "markdown",
   "metadata": {},
   "source": [
    "## Step 5 – Segment with Cellpose"
   ]
  },
  {
   "cell_type": "code",
   "execution_count": null,
   "metadata": {},
   "outputs": [],
   "source": [
    "if cellpose_working and test_data_created:\n",
    "    print(\"🎯 Segmenting …\")\n",
    "    img = tifffile.imread('test_cells.tif')\n",
    "    t0 = time.time()\n",
    "    masks, flows, styles, diams = model.eval(img, diameter=None, channels=[0,0])\n",
    "    dt = time.time()-t0\n",
    "    n_cells = len(np.unique(masks))-1\n",
    "    print(f\"✅ Done in {dt:.1f}s  |  Cells: {n_cells}\")\n",
    "    segmentation_success = True\n",
    "else:\n",
    "    segmentation_success = False"
   ]
  },
  {
   "cell_type": "markdown",
   "metadata": {},
   "source": [
    "## Step 6 – Visualise & Save Outputs"
   ]
  },
  {
   "cell_type": "code",
   "execution_count": null,
   "metadata": {},
   "outputs": [],
   "source": [
    "if segmentation_success:\n",
    "    print(\"📊 Plotting …\")\n",
    "    from skimage import measure\n",
    "    fig,ax = plt.subplots(1,3,figsize=(15,5))\n",
    "    ax[0].imshow(img,cmap='gray'); ax[0].set_title('Original'); ax[0].axis('off')\n",
    "    ax[1].imshow(masks,cmap='nipy_spectral'); ax[1].set_title(f'Masks ({n_cells})'); ax[1].axis('off')\n",
    "    ax[2].imshow(img,cmap='gray'); ax[2].contour(masks,[0.5],colors='r'); ax[2].set_title('Overlay'); ax[2].axis('off')\n",
    "    plt.tight_layout(); plt.savefig('cellpose_results.png',dpi=150)\n",
    "\n",
    "    tifffile.imwrite('segmentation_masks.tif', masks.astype(np.uint16))\n",
    "    outlines = utils.masks_to_outlines(masks); tifffile.imwrite('cell_outlines.tif', outlines.astype(np.uint8)*255)\n",
    "\n",
    "    props = measure.regionprops(masks,img); areas=[p.area for p in props]\n",
    "    print(f\"🔢 Cell area mean±sd: {np.mean(areas):.1f} ± {np.std(areas):.1f} px²\")\n",
    "    visualization_success = True\n",
    "else:\n",
    "    visualization_success = False"
   ]
  },
  {
   "cell_type": "markdown",
   "metadata": {},
   "source": [
    "## Step 7 – Practical Legacy Cellpose Snippets"
   ]
  },
  {
   "cell_type": "code",
   "execution_count": null,
   "metadata": {},
   "outputs": [],
   "source": [
    "print(\"📚 BASIC WORKFLOW (legacy API)\")\n",
    "print(\"=\"*60)\n",
    "print(\n",
    "\"\"\"\n",
    "from cellpose import models\n",
    "import tifffile, numpy as np\n",
    "\n",
    "# 1. Load image\n",
    "img = tifffile.imread('your_image.tif')\n",
    "\n",
    "# 2. Init model (CPU)\n",
    "model = models.Cellpose(gpu=False, model_type='cyto')   # or 'nuclei', 'cyto2'\n",
    "\n",
    "# 3. Run segmentation\n",
    "masks, flows, styles, diams = model.eval(\n",
    "    img,\n",
    "    diameter=None,          # auto\n",
    "    channels=[0,0],         # [cytoplasm, nucleus] – use [0,0] for grayscale\n",
    "    flow_threshold=0.4,\n",
    "    cellprob_threshold=0.0\n",
    ")\n",
    "\n",
    "# 4. Save\n",
    "tifffile.imwrite('masks.tif', masks.astype(np.uint16))\n",
    "\"\"\"\n",
    ")\n",
    "if segmentation_success:\n",
    "    print(f\"\\n✅ Notebook run detected {n_cells} cells and saved output files.\")"
   ]
  },
  {
   "cell_type": "markdown",
   "metadata": {},
   "source": [
    "## Step 8 – Final Report"
   ]
  },
  {
   "cell_type": "code",
   "execution_count": null,
   "metadata": {},
   "outputs": [],
   "source": [
    "print(\"🎉 FINAL STATUS\\n\"+\"=\"*40)\n",
    "overall = all([installation_successful, cellpose_working, test_data_created, segmentation_success, visualization_success])\n",
    "print(\"All steps succeeded ✅\" if overall else \"Some steps failed ⚠️\")\n",
    "for f in [\n",
    "    'test_cells.tif','test_cells_preview.png',\n",
    "    'cellpose_results.png','segmentation_masks.tif','cell_outlines.tif'\n",
    "]:\n",
    "    print(\"✔\" if os.path.exists(f) else \"✘\", f)"
   ]
  }
 ],
 "metadata": {
  "kernelspec": {
   "display_name": "Python 3 (ipykernel)",
   "language": "python",
   "name": "python3"
  },
  "language_info": {
   "codemirror_mode": {
    "name": "ipython",
    "version": 3
   },
   "file_extension": ".py",
   "mimetype": "text/x-python",
   "name": "python",
   "nbconvert_exporter": "python",
   "pygments_lexer": "ipython3",
   "version": "3.10.16"
  }
 },
 "nbformat": 4,
 "nbformat_minor": 5
}
