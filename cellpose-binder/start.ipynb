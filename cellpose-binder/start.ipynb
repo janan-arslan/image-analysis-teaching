{
 "cells": [
  {
   "cell_type": "markdown",
   "metadata": {},
   "source": [
    "# 🎉 Welcome to Cellpose on MyBinder!\n",
    "\n",
    "## Quick Start Guide\n",
    "\n",
    "You've successfully launched the Cellpose environment! \n",
    "\n",
    "### 📚 Next Steps:\n",
    "\n",
    "1. **Main Tutorial**: Click [here to open the Cellpose tutorial](notebooks/01_cellpose_introduction.ipynb) in a new tab\n",
    "2. **File Browser**: Use the file browser on the left to navigate\n",
    "3. **Sample Data**: Find example images in the `sample_data` folder\n",
    "\n",
    "### 🗂️ Available Notebooks:\n",
    "\n",
    "- **[01_cellpose_introduction.ipynb](notebooks/01_cellpose_introduction.ipynb)** - Start here! Basic tutorial\n",
    "- **[02_basic_segmentation.ipynb](notebooks/02_basic_segmentation.ipynb)** - More segmentation options  \n",
    "- **[03_advanced_features.ipynb](notebooks/03_advanced_features.ipynb)** - Batch processing\n",
    "\n",
    "### 💡 Tips:\n",
    "- If a notebook link doesn't work, use the file browser on the left\n",
    "- Double-click files to open them\n",
    "- Sample images are in the `sample_data` folder\n",
    "- Results will be saved to a `results` folder"
   ]
  },
  {
   "cell_type": "markdown",
   "metadata": {},
   "source": [
    "### ✅ Environment Check\n",
    "\n",
    "Let's verify everything is installed correctly:"
   ]
  },
  {
   "cell_type": "code",
   "execution_count": null,
   "metadata": {},
   "outputs": [],
   "source": [
    "print(\"🔍 Checking Cellpose installation...\")\n",
    "\n",
    "try:\n",
    "    import cellpose\n",
    "    print(f\"✅ Cellpose {cellpose.__version__} installed successfully!\")\n",
    "    \n",
    "    # Test model loading\n",
    "    from cellpose import models\n",
    "    print(\"✅ Cellpose models module loaded\")\n",
    "    \n",
    "    import torch\n",
    "    print(f\"✅ PyTorch {torch.__version__} available\")\n",
    "    \n",
    "    import numpy as np\n",
    "    import matplotlib.pyplot as plt\n",
    "    print(\"✅ NumPy and Matplotlib ready\")\n",
    "    \n",
    "    # Check sample data\n",
    "    import os\n",
    "    if os.path.exists('sample_data'):\n",
    "        files = [f for f in os.listdir('sample_data') if f.endswith(('.png', '.jpg', '.tiff'))]\n",
    "        print(f\"📁 Found {len(files)} sample image files\")\n",
    "        if files:\n",
    "            print(f\"   Sample files: {', '.join(files[:3])}{'...' if len(files) > 3 else ''}\")\n",
    "    else:\n",
    "        print(\"📁 Creating sample_data directory...\")\n",
    "        os.makedirs('sample_data', exist_ok=True)\n",
    "    \n",
    "    print(\"\\n🎉 Everything looks good! Ready to segment cells!\")\n",
    "    print(\"\\n👉 Next: Open notebooks/01_cellpose_introduction.ipynb to get started\")\n",
    "    \n",
    "except ImportError as e:\n",
    "    print(f\"❌ Import error: {e}\")\n",
    "    print(\"\\n🔧 Troubleshooting:\")\n",
    "    print(\"1. Wait for the environment to fully load (can take 2-3 minutes)\")\n",
    "    print(\"2. Try: Kernel → Restart & Run All\")\n",
    "    print(\"3. If still failing, the Binder build may need to be restarted\")\n",
    "    \n",
    "except Exception as e:\n",
    "    print(f\"❌ Setup issue: {e}\")\n",
    "    print(\"\\n🔧 Try restarting the kernel: Kernel → Restart\")"
   ]
  },
  {
   "cell_type": "markdown",
   "metadata": {},
   "source": [
    "### 🚀 Quick Test\n",
    "\n",
    "If the check above passed, let's do a quick test to make sure Cellpose is working:"
   ]
  },
  {
   "cell_type": "code",
   "execution_count": null,
   "metadata": {},
   "outputs": [],
   "source": [
    "# Quick test - only run if cellpose imported successfully\n",
    "try:\n",
    "    from cellpose import models\n",
    "    import numpy as np\n",
    "    \n",
    "    print(\"🧪 Testing Cellpose model loading...\")\n",
    "    \n",
    "    # Create a small test image\n",
    "    test_img = np.random.randint(0, 255, (64, 64), dtype=np.uint8)\n",
    "    \n",
    "    # Try loading the model (this will download it if needed)\n",
    "    model = models.Cellpose(model_type='cyto')\n",
    "    print(\"✅ Cellpose model loaded successfully!\")\n",
    "    \n",
    "    print(\"\\n🎯 All systems go! Ready for cell segmentation!\")\n",
    "    print(\"\\n📖 Open the tutorial notebook: notebooks/01_cellpose_introduction.ipynb\")\n",
    "    \n",
    "except Exception as e:\n",
    "    print(f\"⚠️ Model loading test failed: {e}\")\n",
    "    print(\"This might be due to network issues downloading models.\")\n",
    "    print(\"The tutorial notebook will handle this automatically.\")"
   ]
  }
 ],
 "metadata": {
  "kernelspec": {
   "display_name": "Python 3",
   "language": "python",
   "name": "python3"
  },
  "language_info": {
   "codemirror_mode": {
    "name": "ipython",
    "version": 3
   },
   "file_extension": ".py",
   "mimetype": "text/x-python",
   "name": "python",
   "nbconvert_exporter": "python",
   "pygments_lexer": "ipython3",
   "version": "3.9.0"
  }
 },
 "nbformat": 4,
 "nbformat_minor": 4
}
