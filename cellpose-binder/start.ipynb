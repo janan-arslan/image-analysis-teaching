{
 "cells": [
  {
   "cell_type": "markdown",
   "metadata": {},
   "source": [
    "# 🎉 Welcome to Cellpose on MyBinder!\n",
    "\n",
    "## Quick Start Guide\n",
    "\n",
    "You've successfully launched the Cellpose environment! Here's what you can do:\n",
    "\n",
    "### 📚 Available Notebooks:\n",
    "\n",
    "1. **[Basic Cellpose Tutorial](notebooks/01_cellpose_introduction.ipynb)** - Start here if you're new to Cellpose\n",
    "2. **[Advanced Segmentation](notebooks/02_basic_segmentation.ipynb)** - More detailed segmentation options\n",
    "3. **[Batch Processing](notebooks/03_advanced_features.ipynb)** - Process multiple images\n",
    "\n",
    "### 🚀 Launch Tutorial\n",
    "\n",
    "Click the button below to automatically open the main tutorial:"
   ]
  },
  {
   "cell_type": "code",
   "execution_count": null,
   "metadata": {},
   "outputs": [],
   "source": [
    "import ipywidgets as widgets\n",
    "from IPython.display import display, Javascript\n",
    "import os\n",
    "\n",
    "def open_tutorial(b):\n",
    "    display(Javascript('window.open(\"notebooks/01_cellpose_introduction.ipynb\", \"_blank\")'))\n",
    "\n",
    "tutorial_button = widgets.Button(\n",
    "    description='🚀 Open Main Tutorial',\n",
    "    button_style='success',\n",
    "    layout=widgets.Layout(width='300px', height='50px')\n",
    ")\n",
    "\n",
    "tutorial_button.on_click(open_tutorial)\n",
    "display(tutorial_button)\n",
    "\n",
    "print(\"\\n💡 Tips:\")\n",
    "print(\"• Use the file browser on the left to navigate\")\n",
    "print(\"• Sample images are in the 'sample_data' folder\")\n",
    "print(\"• Results will be saved to the 'results' folder\")\n",
    "print(\"• If you get stuck, restart the kernel: Kernel → Restart\")"
   ]
  },
  {
   "cell_type": "markdown",
   "metadata": {},
   "source": [
    "### 📁 File Structure\n",
    "\n",
    "```\n",
    "📦 Your Cellpose Environment\n",
    "├── 📓 start.ipynb (you are here)\n",
    "├── 📂 notebooks/\n",
    "│   ├── 01_cellpose_introduction.ipynb  ← Start here!\n",
    "│   ├── 02_basic_segmentation.ipynb\n",
    "│   └── 03_advanced_features.ipynb\n",
    "├── 📂 sample_data/\n",
    "│   ├── sample_cells.png\n",
    "│   └── sample_nuclei.jpg\n",
    "└── 📂 results/ (created when you run analysis)\n",
    "```"
   ]
  },
  {
   "cell_type": "markdown",
   "metadata": {},
   "source": [
    "### ✅ Environment Check"
   ]
  },
  {
   "cell_type": "code",
   "execution_count": null,
   "metadata": {},
   "outputs": [],
   "source": [
    "# Quick environment check\n",
    "print(\"🔍 Checking Cellpose installation...\")\n",
    "\n",
    "try:\n",
    "    import cellpose\n",
    "    print(f\"✅ Cellpose {cellpose.__version__} installed successfully!\")\n",
    "    \n",
    "    import torch\n",
    "    print(f\"✅ PyTorch {torch.__version__} available\")\n",
    "    \n",
    "    if torch.cuda.is_available():\n",
    "        print(\"🚀 GPU acceleration available!\")\n",
    "    else:\n",
    "        print(\"💻 Using CPU (this is normal on MyBinder)\")\n",
    "        \n",
    "    # Check sample data\n",
    "    import os\n",
    "    if os.path.exists('sample_data'):\n",
    "        files = os.listdir('sample_data')\n",
    "        print(f\"📁 Found {len(files)} sample files\")\n",
    "    \n",
    "    print(\"\\n🎉 Everything looks good! Ready to segment cells!\")\n",
    "    \n",
    "except Exception as e:\n",
    "    print(f\"❌ Setup issue: {e}\")\n",
    "    print(\"Try restarting the kernel or rebuilding the Binder environment.\")"
   ]
  }
 ],
 "metadata": {
  "kernelspec": {
   "display_name": "Python 3",
   "language": "python",
   "name": "python3"
  },
  "language_info": {
   "codemirror_mode": {
    "name": "ipython",
    "version": 3
   },
   "file_extension": ".py",
   "mimetype": "text/x-python",
   "name": "python",
   "nbconvert_exporter": "python",
   "pygments_lexer": "ipython3",
   "version": "3.9.0"
  }
 },
 "nbformat": 4,
 "nbformat_minor": 4
}
