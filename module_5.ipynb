{
  "cells": [
    {
      "cell_type": "markdown",
      "metadata": {
        "id": "2isW6hz4XQEC"
      },
      "source": [
        "# Example Radiomic Feature Extraction by PyRadiomics\n",
        "PyRadiomics document: https://pyradiomics.readthedocs.io/en/latest/\n",
        "\n",
        "This example is adapted/improved from the package creators directly, and the original can be found at https://colab.research.google.com/drive/17Mx7VK45FvhB5XeL5xNbjLgbcyIrOWDn. "
      ]
    },
    {
      "cell_type": "markdown",
      "metadata": {
        "id": "rSo9nV-_QZX-"
      },
      "source": [
        "## Install packages"
      ]
    },
    {
      "cell_type": "code",
      "execution_count": null,
      "metadata": {
        "id": "WP5E_44UXT4W"
      },
      "outputs": [],
      "source": [
        "!pip install -U pip wheel setuptools
         !pip install numpy
         !pip install pyradiomics
          "
      ]
    },
    {
      "cell_type": "markdown",
      "metadata": {
        "id": "92njGjpXPmDw"
      },
      "source": [
        "## Download example data and PyRadiomics configuration file\n",
        "The example NIfTI data is the first case of the pancreas data set from Medical Segmentation Decathlon (http://medicaldecathlon.com/).\n",
        "\n",
        "The example configureation file is modified from the example CT configuration file from PyRadiomics (https://github.com/AIM-Harvard/pyradiomics/tree/master/examples/exampleSettings)."
      ]
    },
    {
      "cell_type": "code",
      "execution_count": null,
      "metadata": {
        "id": "8nCm6DuRXCHv"
      },
      "outputs": [],
      "source": [
        "! gdown https://drive.google.com/uc?id=1S_vOk3SXK_ZiaBN_zV1DxSZBgiZVyNa- -O example_nifti.zip\n",
        "! unzip -q -o example_nifti.zip"
      ]
    },
    {
      "cell_type": "code",
      "execution_count": null,
      "metadata": {
        "id": "WsKYCJbYbW5V"
      },
      "outputs": [],
      "source": [
        "! gdown https://drive.google.com/uc?id=1RZyvAm8YTjEzYi2PrkxMWX00sUCzjgoC -O exampleCT_config.yaml"
      ]
    },
    {
      "cell_type": "markdown",
      "metadata": {
        "id": "Q3ijYc1NQeZ4"
      },
      "source": [
        "## Import packages"
      ]
    },
    {
      "cell_type": "code",
      "execution_count": null,
      "metadata": {
        "id": "-rdF9P4CX1ah"
      },
      "outputs": [],
      "source": [
        "import SimpleITK as sitk\n",
        "import matplotlib.pyplot as plt\n",
        "import numpy as np\n",
        "from radiomics import featureextractor"
      ]
    },
    {
      "cell_type": "markdown",
      "metadata": {
        "id": "P0ZJQcmUQhVN"
      },
      "source": [
        "## Read NIfTI image and segmentation as SimpleITK format"
      ]
    },
    {
      "cell_type": "code",
      "execution_count": null,
      "metadata": {
        "id": "iGlEwxB4agO0"
      },
      "outputs": [],
      "source": [
        "image = sitk.ReadImage('/content/pancreas_001_image.nii.gz')\n",
        "segmentation = sitk.ReadImage('/content/pancreas_001_label.nii.gz')"
      ]
    },
    {
      "cell_type": "markdown",
      "metadata": {
        "id": "V0VlC8k8uhSt"
      },
      "source": [
        "### View a slice of data"
      ]
    },
    {
      "cell_type": "markdown",
      "metadata": {
        "id": "A12KxkrY3hNb"
      },
      "source": [
        "Exercise: change the slice for plotting to view different slice of the data"
      ]
    },
    {
      "cell_type": "code",
      "execution_count": null,
      "metadata": {
        "id": "xb4OEO2eugaR"
      },
      "outputs": [],
      "source": [
        "# Set the number of slice for plotting\n",
        "z = 51\n",
        "\n",
        "hu_l = -100\n",
        "hu_h = 200\n",
        "\n",
        "array_img = sitk.GetArrayFromImage(image)\n",
        "array_seg = sitk.GetArrayFromImage(segmentation)\n",
        "\n",
        "I = np.fliplr(np.flipud(array_img[z, :, :]))\n",
        "S = np.fliplr(np.flipud(array_seg[z, :, :]))\n",
        "\n",
        "plt.figure(figsize=(10, 10))\n",
        "plt.subplot(1, 2, 1)\n",
        "plt.imshow(I, cmap='gray', vmin=hu_l, vmax=hu_h)\n",
        "plt.subplot(1, 2, 2)\n",
        "plt.imshow(S)\n",
        "plt.show()"
      ]
    },
    {
      "cell_type": "markdown",
      "metadata": {
        "id": "J2AHguyiREd9"
      },
      "source": [
        "## Extract radiomic features\n",
        "There are many ways to setup the extractor. Here we use configuration file to setup the extractor.\n",
        "\n",
        "After the extractor is prepared, one can extract the radiomic features by providing image and lable (ROI), which should be SimpleITK format or the file path.\n",
        "\n",
        "Note that for pancreas segmentation in MSD data, 0 means background, 1 means pancreas, and 2 means lesion."
      ]
    },
    {
      "cell_type": "code",
      "execution_count": null,
      "metadata": {
        "id": "bi00TYJVamcx"
      },
      "outputs": [],
      "source": [
        "# Define extractor\n",
        "extractor = featureextractor.RadiomicsFeatureExtractor('exampleCT_config.yaml',\n",
        "                                                       preCrop=True)"
      ]
    },
    {
      "cell_type": "code",
      "execution_count": null,
      "metadata": {
        "id": "n5qkomqy7Yin"
      },
      "outputs": [],
      "source": [
        "extractor.settings"
      ]
    },
    {
      "cell_type": "markdown",
      "metadata": {
        "id": "XrvtPce1838b"
      },
      "source": [
        "Excercise: change the setting of extractor (e.g. bin width) and observed the change of output features\n",
        "\n",
        "Hint 1: you can find the detail of setting in the documentation: https://pyradiomics.readthedocs.io/en/latest/customization.html#radiomics-customization-label\n",
        "\n",
        "Hint 2: you can change the setting files and rerun the cell for defining extractor, add additional parameters in the extractor while defining, or modified the following cell to reset some setting."
      ]
    },
    {
      "cell_type": "code",
      "execution_count": null,
      "metadata": {
        "id": "otbcLrBE7go1"
      },
      "outputs": [],
      "source": [
        "# reset a setting of extractor\n",
        "\n",
        "# extractor.settings['binWidth'] = 25"
      ]
    },
    {
      "cell_type": "code",
      "execution_count": null,
      "metadata": {
        "id": "mfq0hwZt7IkA"
      },
      "outputs": [],
      "source": [
        "# Extract features from pancreas and lesion\n",
        "features_pancreas = extractor.execute(image, segmentation, label=1)\n",
        "features_lesion = extractor.execute(image, segmentation, label=2)"
      ]
    },
    {
      "cell_type": "markdown",
      "metadata": {
        "id": "qLsQZEdklgZs"
      },
      "source": [
        "### View structure of extracted features"
      ]
    },
    {
      "cell_type": "code",
      "execution_count": null,
      "metadata": {
        "id": "c6UzypTaapkZ"
      },
      "outputs": [],
      "source": [
        "features_pancreas"
      ]
    },
    {
      "cell_type": "markdown",
      "metadata": {
        "id": "fq0A2xGOlwbM"
      },
      "source": [
        "### Compare features from pancreas and lesion"
      ]
    },
    {
      "cell_type": "markdown",
      "metadata": {
        "id": "UMasraeN_K3T"
      },
      "source": [
        "Excercise: change the feature name to see the comparison of other features"
      ]
    },
    {
      "cell_type": "code",
      "execution_count": null,
      "metadata": {
        "id": "Xa1PqqJoiFy7"
      },
      "outputs": [],
      "source": [
        "feature_show = 'original_shape_MeshVolume'\n",
        "\n",
        "print(features_pancreas[feature_show])\n",
        "print(features_lesion[feature_show])"
      ]
    }
  ],
  "metadata": {
    "colab": {
      "provenance": []
    },
    "kernelspec": {
      "display_name": "Python 3",
      "name": "python3"
    },
    "language_info": {
      "name": "python"
    }
  },
  "nbformat": 4,
  "nbformat_minor": 0
}
