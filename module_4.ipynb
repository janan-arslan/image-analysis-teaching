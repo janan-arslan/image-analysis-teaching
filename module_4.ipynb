{
 "cells": [
  {
   "cell_type": "markdown",
   "id": "1ebf607e",
   "metadata": {},
   "source": [
    "# Edge Detection (Canny)"
   ]
  },
  {
   "cell_type": "code",
   "execution_count": null,
   "id": "7c614ca7",
   "metadata": {},
   "outputs": [
    {
     "name": "stdout",
     "output_type": "stream",
     "text": [
      "zsh:1: command not found: pip\n"
     ]
    }
   ],
   "source": [
    "!pip install numpy opencv-python-headless matplotlib"
   ]
  },
  {
   "cell_type": "code",
   "execution_count": 1,
   "id": "8788a15d",
   "metadata": {},
   "outputs": [
    {
     "ename": "ModuleNotFoundError",
     "evalue": "No module named 'cv2'",
     "output_type": "error",
     "traceback": [
      "\u001b[0;31m---------------------------------------------------------------------------\u001b[0m",
      "\u001b[0;31mModuleNotFoundError\u001b[0m                       Traceback (most recent call last)",
      "Cell \u001b[0;32mIn[1], line 1\u001b[0m\n\u001b[0;32m----> 1\u001b[0m \u001b[38;5;28;01mimport\u001b[39;00m\u001b[38;5;250m \u001b[39m\u001b[38;5;21;01mcv2\u001b[39;00m\n\u001b[1;32m      2\u001b[0m \u001b[38;5;28;01mimport\u001b[39;00m\u001b[38;5;250m \u001b[39m\u001b[38;5;21;01mmatplotlib\u001b[39;00m\u001b[38;5;21;01m.\u001b[39;00m\u001b[38;5;21;01mpyplot\u001b[39;00m\u001b[38;5;250m \u001b[39m\u001b[38;5;28;01mas\u001b[39;00m\u001b[38;5;250m \u001b[39m\u001b[38;5;21;01mplt\u001b[39;00m\n\u001b[1;32m      4\u001b[0m \u001b[38;5;66;03m# Read image in grayscale\u001b[39;00m\n",
      "\u001b[0;31mModuleNotFoundError\u001b[0m: No module named 'cv2'"
     ]
    }
   ],
   "source": [
    "import cv2\n",
    "import matplotlib.pyplot as plt\n",
    "\n",
    "# Read image in grayscale\n",
    "img = cv2.imread('./Dot_Blot.jpg', cv2.IMREAD_GRAYSCALE)\n",
    "\n",
    "# Apply Gaussian blur for noise reduction\n",
    "blur = cv2.GaussianBlur(img, (5,5), 0)\n",
    "\n",
    "# Canny edge detection\n",
    "edges = cv2.Canny(blur, threshold1=100, threshold2=200)\n",
    "\n",
    "plt.figure(figsize=(10,5))\n",
    "plt.subplot(1,2,1)\n",
    "plt.title('Original Grayscale')\n",
    "plt.imshow(img, cmap='gray')\n",
    "plt.axis('off')\n",
    "\n",
    "plt.subplot(1,2,2)\n",
    "plt.title('Canny Edges')\n",
    "plt.imshow(edges, cmap='gray')\n",
    "plt.axis('off')\n",
    "plt.show()"
   ]
  },
  {
   "cell_type": "markdown",
   "id": "06c08c9a",
   "metadata": {},
   "source": [
    "# Contour Detection & Shape Descriptors"
   ]
  },
  {
   "cell_type": "code",
   "execution_count": null,
   "id": "66d8673c",
   "metadata": {},
   "outputs": [],
   "source": [
    "import cv2\n",
    "import numpy as np\n",
    "import matplotlib.pyplot as plt\n",
    "\n",
    "# Assume 'edges' is obtained from Canny as above (binary image)\n",
    "contours, hierarchy = cv2.findContours(edges.copy(), cv2.RETR_EXTERNAL, cv2.CHAIN_APPROX_SIMPLE)\n",
    "\n",
    "output = cv2.cvtColor(img, cv2.COLOR_GRAY2BGR)  # to draw colored contours on top of the original image\n",
    "\n",
    "for c in contours:\n",
    "    # Calculate area\n",
    "    area = cv2.contourArea(c)\n",
    "    # Calculate perimeter (arc length)\n",
    "    perimeter = cv2.arcLength(c, closed=True)\n",
    "\n",
    "    # Draw the contour\n",
    "    cv2.drawContours(output, [c], -1, (0,255,0), 2)\n",
    "\n",
    "    # Compute bounding rectangle\n",
    "    x,y,w,h = cv2.boundingRect(c)\n",
    "    cv2.rectangle(output, (x,y), (x+w, y+h), (255,0,0), 2)\n",
    "\n",
    "    # Optionally compute circularity: 4π * area / (perimeter^2)\n",
    "    if perimeter != 0:\n",
    "        circularity = 4*np.pi*(area/(perimeter*perimeter))\n",
    "    else:\n",
    "        circularity = 0\n",
    "\n",
    "    print(f\"Contour => Area: {area:.2f}, Perimeter: {perimeter:.2f}, Circularity: {circularity:.4f}\")\n",
    "\n",
    "plt.figure(figsize=(8,6))\n",
    "plt.title('Contours & Bounding Rectangles')\n",
    "plt.imshow(cv2.cvtColor(output, cv2.COLOR_BGR2RGB))\n",
    "plt.axis('off')\n",
    "plt.show()"
   ]
  }
 ],
 "metadata": {
  "kernelspec": {
   "display_name": "Python 3",
   "language": "python",
   "name": "python3"
  },
  "language_info": {
   "codemirror_mode": {
    "name": "ipython",
    "version": 3
   },
   "file_extension": ".py",
   "mimetype": "text/x-python",
   "name": "python",
   "nbconvert_exporter": "python",
   "pygments_lexer": "ipython3",
   "version": "3.9.10"
  }
 },
 "nbformat": 4,
 "nbformat_minor": 5
}
